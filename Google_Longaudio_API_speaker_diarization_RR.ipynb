{
  "nbformat": 4,
  "nbformat_minor": 0,
  "metadata": {
    "kernelspec": {
      "name": "python3",
      "display_name": "Python 3"
    },
    "language_info": {
      "codemirror_mode": {
        "name": "ipython",
        "version": 3
      },
      "file_extension": ".py",
      "mimetype": "text/x-python",
      "name": "python",
      "nbconvert_exporter": "python",
      "pygments_lexer": "ipython3",
      "version": "3.5.2"
    },
    "colab": {
      "name": "Google_Longaudio_API_speaker_diarization_RR.ipynb",
      "provenance": [],
      "collapsed_sections": [],
      "machine_shape": "hm"
    },
    "accelerator": "TPU"
  },
  "cells": [
    {
      "cell_type": "code",
      "metadata": {
        "id": "ZJhG7Y34M4dS"
      },
      "source": [
        "filepath = \"gdrive/My Drive/.wav/\"\n",
        "input_filepath = \"gdrive/My Drive/.mp4/\"\n",
        "output_filepath=\"gdrive/My Drive/transcribed_files2/\"\n"
      ],
      "execution_count": null,
      "outputs": []
    },
    {
      "cell_type": "code",
      "metadata": {
        "id": "zvoIwSdFOYQa",
        "colab": {
          "base_uri": "https://localhost:8080/",
          "height": 802
        },
        "outputId": "cef81cc8-ac55-4f77-e3bf-a82352dd94f2"
      },
      "source": [
        "!pip install pydub\n",
        "!pip install SpeechRecognition\n",
        "!pip install --upgrade google-cloud-speech\n",
        "!pip install ffmpy\n",
        "!pip install libav-tools"
      ],
      "execution_count": null,
      "outputs": [
        {
          "output_type": "stream",
          "text": [
            "Collecting pydub\n",
            "  Downloading https://files.pythonhosted.org/packages/79/db/eaf620b73a1eec3c8c6f8f5b0b236a50f9da88ad57802154b7ba7664d0b8/pydub-0.23.1-py2.py3-none-any.whl\n",
            "Installing collected packages: pydub\n",
            "Successfully installed pydub-0.23.1\n",
            "Collecting SpeechRecognition\n",
            "\u001b[?25l  Downloading https://files.pythonhosted.org/packages/26/e1/7f5678cd94ec1234269d23756dbdaa4c8cfaed973412f88ae8adf7893a50/SpeechRecognition-3.8.1-py2.py3-none-any.whl (32.8MB)\n",
            "\u001b[K     |████████████████████████████████| 32.8MB 137kB/s \n",
            "\u001b[?25hInstalling collected packages: SpeechRecognition\n",
            "Successfully installed SpeechRecognition-3.8.1\n",
            "Collecting google-cloud-speech\n",
            "\u001b[?25l  Downloading https://files.pythonhosted.org/packages/5c/4b/76ec278f9ac5b6a525d222d7539cc473cca41f639a571177301a5115d0b3/google_cloud_speech-1.3.2-py2.py3-none-any.whl (88kB)\n",
            "\u001b[K     |████████████████████████████████| 92kB 3.2MB/s \n",
            "\u001b[?25hRequirement already satisfied, skipping upgrade: google-api-core[grpc]<2.0.0dev,>=1.14.0 in /usr/local/lib/python3.6/dist-packages (from google-cloud-speech) (1.16.0)\n",
            "Requirement already satisfied, skipping upgrade: googleapis-common-protos<2.0dev,>=1.6.0 in /usr/local/lib/python3.6/dist-packages (from google-api-core[grpc]<2.0.0dev,>=1.14.0->google-cloud-speech) (1.51.0)\n",
            "Requirement already satisfied, skipping upgrade: protobuf>=3.4.0 in /usr/local/lib/python3.6/dist-packages (from google-api-core[grpc]<2.0.0dev,>=1.14.0->google-cloud-speech) (3.10.0)\n",
            "Requirement already satisfied, skipping upgrade: six>=1.10.0 in /usr/local/lib/python3.6/dist-packages (from google-api-core[grpc]<2.0.0dev,>=1.14.0->google-cloud-speech) (1.12.0)\n",
            "Requirement already satisfied, skipping upgrade: pytz in /usr/local/lib/python3.6/dist-packages (from google-api-core[grpc]<2.0.0dev,>=1.14.0->google-cloud-speech) (2018.9)\n",
            "Requirement already satisfied, skipping upgrade: setuptools>=34.0.0 in /usr/local/lib/python3.6/dist-packages (from google-api-core[grpc]<2.0.0dev,>=1.14.0->google-cloud-speech) (46.0.0)\n",
            "Requirement already satisfied, skipping upgrade: google-auth<2.0dev,>=0.4.0 in /usr/local/lib/python3.6/dist-packages (from google-api-core[grpc]<2.0.0dev,>=1.14.0->google-cloud-speech) (1.7.2)\n",
            "Requirement already satisfied, skipping upgrade: requests<3.0.0dev,>=2.18.0 in /usr/local/lib/python3.6/dist-packages (from google-api-core[grpc]<2.0.0dev,>=1.14.0->google-cloud-speech) (2.21.0)\n",
            "Requirement already satisfied, skipping upgrade: grpcio<2.0dev,>=1.8.2; extra == \"grpc\" in /usr/local/lib/python3.6/dist-packages (from google-api-core[grpc]<2.0.0dev,>=1.14.0->google-cloud-speech) (1.27.2)\n",
            "Requirement already satisfied, skipping upgrade: rsa<4.1,>=3.1.4 in /usr/local/lib/python3.6/dist-packages (from google-auth<2.0dev,>=0.4.0->google-api-core[grpc]<2.0.0dev,>=1.14.0->google-cloud-speech) (4.0)\n",
            "Requirement already satisfied, skipping upgrade: cachetools<3.2,>=2.0.0 in /usr/local/lib/python3.6/dist-packages (from google-auth<2.0dev,>=0.4.0->google-api-core[grpc]<2.0.0dev,>=1.14.0->google-cloud-speech) (3.1.1)\n",
            "Requirement already satisfied, skipping upgrade: pyasn1-modules>=0.2.1 in /usr/local/lib/python3.6/dist-packages (from google-auth<2.0dev,>=0.4.0->google-api-core[grpc]<2.0.0dev,>=1.14.0->google-cloud-speech) (0.2.8)\n",
            "Requirement already satisfied, skipping upgrade: chardet<3.1.0,>=3.0.2 in /usr/local/lib/python3.6/dist-packages (from requests<3.0.0dev,>=2.18.0->google-api-core[grpc]<2.0.0dev,>=1.14.0->google-cloud-speech) (3.0.4)\n",
            "Requirement already satisfied, skipping upgrade: idna<2.9,>=2.5 in /usr/local/lib/python3.6/dist-packages (from requests<3.0.0dev,>=2.18.0->google-api-core[grpc]<2.0.0dev,>=1.14.0->google-cloud-speech) (2.8)\n",
            "Requirement already satisfied, skipping upgrade: urllib3<1.25,>=1.21.1 in /usr/local/lib/python3.6/dist-packages (from requests<3.0.0dev,>=2.18.0->google-api-core[grpc]<2.0.0dev,>=1.14.0->google-cloud-speech) (1.24.3)\n",
            "Requirement already satisfied, skipping upgrade: certifi>=2017.4.17 in /usr/local/lib/python3.6/dist-packages (from requests<3.0.0dev,>=2.18.0->google-api-core[grpc]<2.0.0dev,>=1.14.0->google-cloud-speech) (2019.11.28)\n",
            "Requirement already satisfied, skipping upgrade: pyasn1>=0.1.3 in /usr/local/lib/python3.6/dist-packages (from rsa<4.1,>=3.1.4->google-auth<2.0dev,>=0.4.0->google-api-core[grpc]<2.0.0dev,>=1.14.0->google-cloud-speech) (0.4.8)\n",
            "Installing collected packages: google-cloud-speech\n",
            "Successfully installed google-cloud-speech-1.3.2\n"
          ],
          "name": "stdout"
        },
        {
          "output_type": "display_data",
          "data": {
            "application/vnd.colab-display-data+json": {
              "pip_warning": {
                "packages": [
                  "google"
                ]
              }
            }
          },
          "metadata": {
            "tags": []
          }
        },
        {
          "output_type": "stream",
          "text": [
            "Collecting ffmpy\n",
            "  Downloading https://files.pythonhosted.org/packages/18/e6/4309f4c02d38aef16236650766f78e949c1b8170f5d63cc4b3be7148565f/ffmpy-0.2.2.tar.gz\n",
            "Building wheels for collected packages: ffmpy\n",
            "  Building wheel for ffmpy (setup.py) ... \u001b[?25l\u001b[?25hdone\n",
            "  Created wheel for ffmpy: filename=ffmpy-0.2.2-cp36-none-any.whl size=4602 sha256=9841c8413ad4df77d3e01e5b29e9dd7c475d90e2849722c9a076802284ee78ee\n",
            "  Stored in directory: /root/.cache/pip/wheels/16/28/57/96aff0d874198125b03f542d854e7ebdc61a56b09a4d49de6a\n",
            "Successfully built ffmpy\n",
            "Installing collected packages: ffmpy\n",
            "Successfully installed ffmpy-0.2.2\n",
            "\u001b[31mERROR: Could not find a version that satisfies the requirement libav-tools (from versions: none)\u001b[0m\n",
            "\u001b[31mERROR: No matching distribution found for libav-tools\u001b[0m\n"
          ],
          "name": "stdout"
        }
      ]
    },
    {
      "cell_type": "code",
      "metadata": {
        "id": "wdNdoO7zr07t",
        "colab": {
          "base_uri": "https://localhost:8080/",
          "height": 33
        },
        "outputId": "8710aef5-8baf-4424-b2ae-d72efdebb3f8"
      },
      "source": [
        "!gcloud config set project weighty-flux-127101\n"
      ],
      "execution_count": null,
      "outputs": [
        {
          "output_type": "stream",
          "text": [
            "Updated property [core/project].\n"
          ],
          "name": "stdout"
        }
      ]
    },
    {
      "cell_type": "code",
      "metadata": {
        "id": "DP7l_n7CM4da"
      },
      "source": [
        "from pydub import AudioSegment\n",
        "import io\n",
        "import os\n",
        "import ffmpy\n",
        "from google.cloud import speech_v1p1beta1 as speech\n",
        "from google.cloud.speech_v1p1beta1 import enums\n",
        "from google.cloud.speech_v1p1beta1 import types\n",
        "import wave\n",
        "from google.cloud import storage\n",
        "import tensorflow as tf"
      ],
      "execution_count": null,
      "outputs": []
    },
    {
      "cell_type": "code",
      "metadata": {
        "id": "JCInp9JuiNag",
        "colab": {
          "base_uri": "https://localhost:8080/",
          "height": 118
        },
        "outputId": "de08e0df-8e5f-483d-ab5f-a962d46305c1"
      },
      "source": [
        "from google.colab import drive\n",
        "drive.mount('/content/gdrive', force_remount = True)"
      ],
      "execution_count": null,
      "outputs": [
        {
          "output_type": "stream",
          "text": [
            "Go to this URL in a browser: https://accounts.google.com/o/oauth2/auth?client_id=947318989803-6bn6qk8qdgf4n4g3pfee6491hc0brc4i.apps.googleusercontent.com&redirect_uri=urn%3aietf%3awg%3aoauth%3a2.0%3aoob&response_type=code&scope=email%20https%3a%2f%2fwww.googleapis.com%2fauth%2fdocs.test%20https%3a%2f%2fwww.googleapis.com%2fauth%2fdrive%20https%3a%2f%2fwww.googleapis.com%2fauth%2fdrive.photos.readonly%20https%3a%2f%2fwww.googleapis.com%2fauth%2fpeopleapi.readonly\n",
            "\n",
            "Enter your authorization code:\n",
            "··········\n",
            "Mounted at /content/gdrive\n"
          ],
          "name": "stdout"
        }
      ]
    },
    {
      "cell_type": "code",
      "metadata": {
        "id": "3vS1bT-rn0GR"
      },
      "source": [
        "#filepath = \"gdrive/My Drive/check_point/\"\n",
        "#output_filepath = \"gdrive/My Drive/transcribed_files/\"\n",
        "#saver = tf.train.Saver(max_to_keep = 100)"
      ],
      "execution_count": null,
      "outputs": []
    },
    {
      "cell_type": "code",
      "metadata": {
        "id": "OdQv26HdlLSB"
      },
      "source": [
        "import os\n",
        "#FIXME: EDIT CREDENTIALS GO TO DOWNLOAD KEYS FROM LEAH'S PROJECT\n",
        "os.environ[\"GOOGLE_APPLICATION_CREDENTIALS\"] = \"gdrive/My Drive/credentials_gcp/MyWallBreakers-0b82f601b198.json\"\n",
        "#check=os.listdir(\"gdrive/My Drive/check_point\")\n",
        "#saver.restore(session, \"gdrive/My Drive/checkpoint/epoch{}/chatbot.ckpt\".format(0))\n"
      ],
      "execution_count": null,
      "outputs": []
    },
    {
      "cell_type": "code",
      "metadata": {
        "id": "2o4eJUU2DVNT"
      },
      "source": [
        "def mp5_to_wav(audio_file_name):\n",
        "  for filename in os.listdir(input_filepath):\n",
        "    actual_filename = filename[:-4]\n",
        "    if (filename.endswith(\".mp4\")):\n",
        "      os.system('ffmpeg -i {} -acodec pcm_s16le -ar 16000 {}.wav'.format(audio_file_name, actual_filename))\n",
        "    else:\n",
        "      continue"
      ],
      "execution_count": null,
      "outputs": []
    },
    {
      "cell_type": "code",
      "metadata": {
        "id": "aEz35OctM4dd"
      },
      "source": [
        "def mp3_to_wav(audio_file_name):\n",
        "  print(\":)\")\n",
        "  if audio_file_name.split('.')[1] == 'mp3':    \n",
        "    sound = AudioSegment.from_mp3(audio_file_name)\n",
        "    audio_file_name = audio_file_name.split('.')[0] + '.wav'\n",
        "    sound.export(audio_file_name, format=\"wav\")"
      ],
      "execution_count": null,
      "outputs": []
    },
    {
      "cell_type": "code",
      "metadata": {
        "id": "rbiNPjlYHQ4P"
      },
      "source": [
        "\n",
        "def mp4_to_wav():\n",
        "  print(os.listdir(input_filepath))\n",
        "  for filename in os.listdir(input_filepath):\n",
        "    print(filename)\n",
        "    actual_filename = filename[:-4]\n",
        "    \n",
        "    if (filename.endswith(\".mp4\")):\n",
        "      \n",
        "      sound = AudioSegment.from_file(input_filepath + filename)\n",
        "      print('made it')\n",
        "      audio_file_name = actual_filename +'.wav'\n",
        "      sound.export(filepath + audio_file_name, format = \"wav\")\n",
        "      print(filename)\n",
        "    else:\n",
        "      continue\n",
        "\n",
        "    "
      ],
      "execution_count": null,
      "outputs": []
    },
    {
      "cell_type": "code",
      "metadata": {
        "id": "dJ8OcPymOWn_",
        "colab": {
          "base_uri": "https://localhost:8080/",
          "height": 277
        },
        "outputId": "34a2c2bd-e2d0-4397-b4c9-8e15fbe1e7d7"
      },
      "source": [
        "mp4_to_wav()"
      ],
      "execution_count": null,
      "outputs": [
        {
          "output_type": "stream",
          "text": [
            "['zoom_2.mp4', 'zoom_3.mp4', 'zoom_4.mp4', 'zoom_5.mp4', 'zoom_1.mp4']\n",
            "zoom_2.mp4\n",
            "made it\n",
            "zoom_2.mp4\n",
            "zoom_3.mp4\n",
            "made it\n",
            "zoom_3.mp4\n",
            "zoom_4.mp4\n",
            "made it\n",
            "zoom_4.mp4\n",
            "zoom_5.mp4\n",
            "made it\n",
            "zoom_5.mp4\n",
            "zoom_1.mp4\n",
            "made it\n",
            "zoom_1.mp4\n"
          ],
          "name": "stdout"
        }
      ]
    },
    {
      "cell_type": "code",
      "metadata": {
        "id": "ZQWjxrC8M4dh"
      },
      "source": [
        "def frame_rate_channel(audio_file_name):\n",
        "    with wave.open(audio_file_name, \"rb\") as wave_file:\n",
        "        frame_rate = wave_file.getframerate()\n",
        "        channels = wave_file.getnchannels()\n",
        "        return frame_rate,channels"
      ],
      "execution_count": null,
      "outputs": []
    },
    {
      "cell_type": "code",
      "metadata": {
        "id": "K3x4MBEYM4dw"
      },
      "source": [
        "def stereo_to_mono(audio_file_name):\n",
        "    sound = AudioSegment.from_wav(audio_file_name)\n",
        "    sound = sound.set_channels(1)\n",
        "    sound.export(audio_file_name, format=\"wav\")"
      ],
      "execution_count": null,
      "outputs": []
    },
    {
      "cell_type": "code",
      "metadata": {
        "id": "k0mkGgiDM4dz"
      },
      "source": [
        "def upload_blob(bucket_name, source_file_name, destination_blob_name):\n",
        "    \"\"\"Uploads a file to the bucket.\"\"\"\n",
        "    storage_client = storage.Client()\n",
        "    bucket = storage_client.get_bucket(bucket_name)\n",
        "    blob = bucket.blob(destination_blob_name)\n",
        "\n",
        "    blob.upload_from_filename(source_file_name)"
      ],
      "execution_count": null,
      "outputs": []
    },
    {
      "cell_type": "code",
      "metadata": {
        "id": "It6w0tvBM4d3"
      },
      "source": [
        "def delete_blob(bucket_name, blob_name):\n",
        "    \"\"\"Deletes a blob from the bucket.\"\"\"\n",
        "    storage_client = storage.Client()\n",
        "    bucket = storage_client.get_bucket(bucket_name)\n",
        "    blob = bucket.blob(blob_name)\n",
        "\n",
        "    blob.delete()"
      ],
      "execution_count": null,
      "outputs": []
    },
    {
      "cell_type": "code",
      "metadata": {
        "id": "ZyhrgA1WM4d8"
      },
      "source": [
        "def google_transcribe(audio_file_name):\n",
        "    \n",
        "    file_name = filepath + audio_file_name\n",
        "    print(file_name)\n",
        "    #mp3_to_wav(file_name)\n",
        "    #mp4_to_wav(file_name)\n",
        "\n",
        "    # The name of the audio file to transcribe\n",
        "    \n",
        "    frame_rate, channels = frame_rate_channel(file_name)\n",
        "    \n",
        "    if channels > 1:\n",
        "        stereo_to_mono(file_name)\n",
        "    \n",
        "    bucket_name = 'calls-audio-files'\n",
        "    source_file_name = filepath + audio_file_name\n",
        "    destination_blob_name = audio_file_name\n",
        "    \n",
        "    upload_blob(bucket_name, source_file_name, destination_blob_name)\n",
        "    \n",
        "    gcs_uri = 'gs://calls-audio-files/' + audio_file_name\n",
        "    transcript = ''\n",
        "    \n",
        "    client = speech.SpeechClient()\n",
        "    audio = types.RecognitionAudio(uri=gcs_uri)\n",
        "\n",
        "    config = types.RecognitionConfig(\n",
        "    encoding=enums.RecognitionConfig.AudioEncoding.LINEAR16,\n",
        "    sample_rate_hertz=frame_rate,\n",
        "    language_code='en-US',\n",
        "    enable_speaker_diarization=True, \n",
        "    diarization_speaker_count=2\n",
        "    )\n",
        "\n",
        "    # Detects speech in the audio file\n",
        "    operation = client.long_running_recognize(config, audio)\n",
        "    response = operation.result(timeout=10000)\n",
        "    result = response.results[-1]\n",
        "    words_info = result.alternatives[0].words\n",
        "    \n",
        "    tag=1\n",
        "    speaker=\"\"\n",
        "\n",
        "    for word_info in words_info:\n",
        "        if word_info.speaker_tag==tag:\n",
        "            speaker=speaker+\" \"+word_info.word\n",
        "        else:\n",
        "            transcript += \"speaker {}: {}\".format(tag,speaker) + '\\n'\n",
        "            tag=word_info.speaker_tag\n",
        "            speaker=\"\"+word_info.word\n",
        "\n",
        "    transcript += \"speaker {}: {}\".format(tag,speaker)\n",
        "    \n",
        "    delete_blob(bucket_name, destination_blob_name)\n",
        "    return transcript"
      ],
      "execution_count": null,
      "outputs": []
    },
    {
      "cell_type": "code",
      "metadata": {
        "id": "XYcRxDA2M4d_"
      },
      "source": [
        "def write_transcripts(transcript_filename,transcript):\n",
        "    f= open(output_filepath + transcript_filename,\"w+\")\n",
        "    f.write(transcript)\n",
        "    f.close() "
      ],
      "execution_count": null,
      "outputs": []
    },
    {
      "cell_type": "code",
      "metadata": {
        "id": "6T5hHP9KM4eB",
        "colab": {
          "base_uri": "https://localhost:8080/",
          "height": 666
        },
        "outputId": "c2fa2a9e-ebdd-41c0-d6a7-864415ed9526"
      },
      "source": [
        "#gdrive/My Drive/checkpoint/epoch{}/chatbot.ckpt\".format(0)\n",
        "if __name__ == \"__main__\":\n",
        "    for audio_file_name in os.listdir(filepath):\n",
        "        print(audio_file_name)\n",
        "        exists = os.path.isfile(output_filepath + audio_file_name.split('.')[0] + '.txt')\n",
        "        if exists:\n",
        "            print(\"!!!!!????? :/\")\n",
        "            pass\n",
        "        else:\n",
        "            transcript = google_transcribe(audio_file_name)\n",
        "            print(transcript)\n",
        "            print(\":)\")\n",
        "            transcript_filename = audio_file_name.split('.')[0] + '.txt'\n",
        "            write_transcripts(output_filepath + transcript_filename,transcript)"
      ],
      "execution_count": null,
      "outputs": [
        {
          "output_type": "stream",
          "text": [
            "zoom_2.wav\n",
            "gdrive/My Drive/.wav/zoom_2.wav\n",
            "speaker 1:  really only three people so far I know that the the announcement didn't go out Andrea wasn't sure if we were having this today because we had because we had the office hours would be so last night but technically with this is if this is still on the counter so I don't know why you wouldn't we are great great office hours with Visa I changed the the permission so now everybody should be able to access this but if we don't get more people onto this then I'm just going to go ahead and reschedule us from for next week there's no reason why we can't do that so we're going to wait maybe 5 more minutes and see if we get more than two people can you tell me what the syntax error is anybody see what my syntax error is nobody I'm assuming the people is defined know that that is the Syntax for PHP and you absolutely can use a logical operator and an Australian PHP OU Dynamic typing for the win yeah I would assume and also that would assume that people has been has been defined as a IRS offer similar to which I'm nest of the hell of an assumption to make but whatever we all know the actual syntax error is that everything that I just described would not be a syntax error that's the syntax errors the additional is is hanging from the Seas one extra parentheses so you got a grand total of 5 people call people I think just about everybody here was on the vehicle last night\n",
            "speaker 2: right yep\n",
            "speaker 1: alfredo did you guys see the the recording I linked the recording in in slack and I actually fixed the permission so you should be able to download it now okay let me know if you can't download it okay nope was pretty good, wasn't it Hannah cool okay so about 5 minutes at the top of the hour and I think I don't know I feel like we get enough people to go ahead and do this tonight alright everybody Welcome the week 6 this is our you made it you're not dead yet I mean you know presumably I hope you're not please don't die I'll let me pull up today tonight at prepare that would be nice there's an idea let's try that let's see here tonight's AMA topic all right retrospective doing a retrospective on tonight's AMA for tonight's Ama we're going to talk about yeah we're going to talk about everything that isn't coronavirus that's that's definitely outside scope also I'm not a doctor and I don't play one on the internet alright so today first things first word perspective hopefully most of you are most of the way through the homework most of the way through if you're not that's okay don't don't panic Don't Panic the purpose of the homework to reiterate to remind you the purpose of the homework is not because I need to see 200 different ways to solve all of these problems it's because you need the opportunity to practice having solve these and having seen this and have you been exposed to this the only way to learn this has to do it and so hopefully at this point in the in the cohorts you are pretty close to that point you are pretty close if you're not at that point you're close to hopefully if you are not at that point that's okay if you're if you need to be rolled into the next co-worker we do that automatically you will not be dropped you will not be forgotten you will not be just started we'll just move you on to the next door and you'll pick right up where you left off if it doesn't even begin to be a problem there's no reason why you have to stop stop what you're doing stop working on stuff and we will also we're not going to stop presenting you until we get your place so just keep that in mind Okay so hopefully hopefully most of the people that at least I know all the people in this call I say I don't know if we work together yet have done a one-on-one with me if you haven't yet I'll let's go ahead and get that scheduled but that first one I want is a pair programming session more than it's it's it's a lot more than it's not a proper way boarding session I don't know if you guys you know noticed that or not it's not a proper whiteboarding session I help you a lot more if you need help I will I help you out more in that first session than a whiteboarding session to Kathy does part of the reason why we do that is if it's more of a warm-up and it gives me a sense of basically of how nervous you are and how comfortable you are Coating in front of somebody else just just thinking through the problems and thinking around corners it lets me know where you are with that and what some of the things are that you might need to work on if you have if you're really struggling with certain things that gives me the opportunity to to let you know if there are key aspects that you know you would be well-served to shore up I have to tell you yo emphasizing The Importance of Being able to debug in a whiteboard session I can't I can't say it too many times being able to debug while you are whiteboarding you don't have to solve it as long as you can show that you know how to figure it out and being able to debug is 90% of that weed that stated if you have not already done your follow-up actual whiteboarding sessions we're going to be able to start doing those really soon here it'll be Tatiana that you'll see that you'll schedule with moving forward those whiteboarding practice sessions that's going to get you actual whiteboarding practice you're going to get used to him you'll be surprised at how fast you get used to this you'll get used to this and once you're used to it it's just like Coating in normal life because you're not you don't have the anxiety you don't have the you know the stage fright but normally is 90% of the barrier when it comes to whiteboarding session yeah I hope that helps I hope that makes sense that's pretty much the short and skinny of it today we were evaluating potential new partners and one of the things I know I know I've harped on about this quite a bit throughout the cohort I don't know where that a lot of you've actually done it but I came across a posting that specifically said that if you have an app on the App Store the Google App Store the Apple App Store whatever if you have an app on the App Store but that is an enormous enormous nice to have to the point where I also saw an opening for 2 years of experience or having it have on the App Store basically the difference there is if you have shift code they really don't care how long you been doing this if you have shift code and I hope that makes sense so y'all next thing to talk about how to stack up job offers negotiating tips and tricks that one is a tricky that that one can be a little bit tricky just getting the hang of it it's I got to be honest with you sometimes it's hard to not just take the first offer that you get if a person did you get is the one that you really wanted to go for it and I have to tell you if the difference between working at the place that you really want to work at and working at the place that you didn't necessarily want to work at is $10,000 worth of the place that you really wanted to work at and the reason for that is that the place that you didn't really want to work at $10,000 over the course of a year is it going to make that much difference compared you home, what you going to be kicking yourself for not working at the place that you wanted I hope that makes sense for the way $10,000 a year is less than $1,000 a month and when you're making $10,000 a month it doesn't really don't even really notice it got to be an asshole about it but it's true and by the way is that sounds like a lot of money it's only a lot of money the first time that it happens the second time that it happens it's just paid a yasso niggga negotiating tips and tricks so especially for the ladies but also bring you gentlemen sometimes negotiation is difficult one of the things to keep in mind is that your ability to negotiate it increases exponentially depending on how many other offers do you have standing in my experience it is very difficult for us to Advocate on behalf of ourselves I have seen I have seen this go wrong as often as I have seen ago right I have seen places double down on mobile offers because they simply believe that the person making the offer to should be happy with $70,000 a year as a data scientist PhD that's by the way less than half of what a data scientist PhD should expect yeah and I will review your your performance in six months and see if no thank you no some places I've heard some people will say just take the job there is a certain there's a certain truths or rather I mean you got to know you got to eat right but at the same time taking a job but isn't right and that isn't going to be right can be as bad as not taking it at all especially if you end up leaving that job too soon and then it becomes a situation where I can reflect badly on you in dealing with that is not something that you necessarily want to have to want to have to deal with it when the reason why I have always had better better outcomes especially financially when I have a recruiter representing me that what I would I do one of the best examples of this that I ever had as I had at a place where I was poached by a friend that I had been hired to replace the last place that I worked their friend coach needs to the new place and in the process of doing so took over negotiate super my compensation and negotiated on my behalf I didn't have a recruiter but my friend was the the death lead and so yeah having somebody negotiate on your behalf is very very it's probably one of the most powerful things that you could do don't negotiate for yourself we get a lot farther will when someone else asks for us so that's something to keep in mind this is all so I can help you with an offer even from an outside from a partner please let us know so we can still help you getting you paid is what we're here to do so look see not as much the recruit the recruiter works for the company to recruiter oral represents the company recruiter doesn't is out if they're out of house then they represent you I hope that makes sense the most important thing that you can do is refer them to us that's actually we actually have partners that have found was because they hired someone from one of our cohorts and I was like OMG like this person and baby kitty. So that the single most most valuable thing is to create that is to create that that weird that relationship using yourself as an example I'm always also alumni are always welcome we always need more people to help with getting white boards and with leading leading group group sessions I hope that\n",
            "speaker 2: makes sense\n",
            "speaker 1: and let's see I mean it seems kind of early to talk about what's next in your career will believe it or not it's something that you want to be you want to be thinking about throughout your career software development is a learning occupation languages almond go I mean none of them really doe per se but do any of you actually know what COBOL stands for an answer that one of you actually know what Foxpro is have you ever have you ever seen it I have seen a book for it once and this leads me to upskilling re-skilling and the nature of this learning occupation it will never be possible to know everything there is to know about all the different aspects of our field it's no longer possible for a single person to know everything there is to know there isn't a single person alive who knows how every single component under the hood of a MacBook Pro works there are many people who know exactly how one particular component Works reading several components but not all\n",
            "speaker 2: of them\n",
            "speaker 1: the same is especially true for software there will always be a technology that is emerging it's new it's novel you haven't seen before you haven't heard of that's okay you don't have to know everything you just have to know how to learn up stealing and Reese killing yourself I mean for example there are not nearly as many systems administrator positions available nowadays as there used to be\n",
            "speaker 2: sysadmin\n",
            "speaker 1: there used to be a system at any time it was a computer in the house there was just a 7 nowadays that I mean that's half the time it's the you know read person's job it's I want to send it to dying discipline but it's definitely changing it's the kind of thing that you really only find the data warehousing and you know operations that have physical that have a large investment in Hardware what's known as metal that needs to basically basically that need to be monitored and maintained around the clock co-located servers for example the actual physical collocated server extremely expensive Hardware that is yellow shopped out rented out and so on and so forth I degress is that's it used to be 15-20 years ago that you know being a sysadmin was a matter of being able to Google your way to the right answer if you don't have the money for the certification and if you do you know you probably already work for Microsoft anyway anyway re-skilling rescheduling is the ability to go from the discipline that you're you're used to working in PHP is probably the best example that I can think of off the top of my head it's by no means a dead language but it is no longer use the way it used to be most PHP jobs at least are also you know I don't know but also know JavaScript and JavaScript back-end most also know at least one other back-end language just because PHP is usually founded Horizons especially nowadays and that is a perfect example of what re-skilling looks like in software software engineering what does often no similarly often no back-end languages and when is he back and I mean like aaptiv for the purpose of at least at least integrating with saws applications yeah server development I mean I don't know if you guys are aware of this but PHP was originally written with pearl it was originally written because pearls and actually just the person who invented it did not like Pearl send text enough that he invented a new language that was supposed to be easier and it was too easy as actually part of problem so yeah that's one of the things to be aware of this will be a fashion or reality of your career I mean when I first started doing lamp dove Apache could not be compiled on Windows I had to figure that out myself and if I'd written a blog post about it I'd be famous now I digress is it wasn't possible or you know it wasn't it was virtually impossible when I had to do it that stated when I got into lamp. If it was possible to be a lamp there without doing without having any familiarity with JavaScript that is no longer the case and I sure I got to tell you I sure as hell did not anticipate ending up in robotics and AI long sounds when you guys help me out here how did I get into robotics in front of the Drone startup actually that's a really good question and the answer that I just gave you is kind of disingenuous I didn't found a drone startup I didn't go out I like I didn't wake up when I got my damn what actually happened was everybody snuggle in buckle up cuz it's Story Time how did you reschedule yourself I just read the manual I don't really have a choice I wanted to do a thing and I'm I popped up with okay so let me backup stuck with you I had just been shut off the glass Cliff you know what the glass Cliff is I hope you ladies know what the last month is okay the glass cliff it's not a glass ceiling yell it is it is a glass Cliff you are you rise to a certain point to a certain level in your career after which you can rise no higher and in attempting to do so you are shoved off of a glass Cliff you are put into a position so so so precarious and so impossible that success is it I mean either you're a miracle worker or you can shut off of a glass Cliff you're basically your you rise to a point to when you get into that to that hire level position you are in a position where you are set up to fail at this is this is all it was failing when you came out of the job and it is a glad think there's no winning. I was shoved off the glass clip I in a bunch of my colleagues other women in August about four of us were all sold out the last clip at the like what in the same to me. It was ridiculous and in that same to me. I happen to be perusing a library you guys are going to laugh this library is actually called ratchet it's a I swear to God that's Dashiell name yeah it's it's for socket productivity and in real time which is unbelievable in a language that is designed to be stateless and no share with us would Sports and it was for this particular Library had been in boat to modify an AR parrot AR Drone 2 and it was because of that one of the other women who have been shut off the glass Cliff ran out to the mall literally the mall and bought one and brought it back and I modified it just to see what I could because of the three-eyed not to be a jerk I was the best developer and the three of us brought the Lincoln to our group chat and it was a link to what's your let me show you what they\n",
            "speaker 2: were the hell happened\n",
            "speaker 1: glasses you're the cold this which is an AR visor that at the time they were $1,000 a piece and The Third Woman sheets what what does the second woman she she was like you know somebody come up with an excuse to use these and I was like I've got idea cuz I was looking at this drone might have dismissed modifying this this you know the behavior of the flight Telemetry have a drone in PHP at the time I got an idea let's use it for this why the hell not I had by the way never touched Unity before in my life I never gotten do anything that cool I gained ever any look up know I was working at e-commerce it pays the bills right so I busted out unity and I dusted off my C sharp skills and I got to work wiring what are glasses this dismiss AR visor AR ER because the next thing with the FAA did was it legalized the use of requiring visual line-of-sight for piloting a drone which meant that we can only use AR when you couldn't use VR because you can't you can have you can have visual line-of-sight physically around an AR visor but not around a VR so and that was how that got started the next thing that happened was that third one that I mentioned she dropped a link into those and she was like well if we can incorporate this somehow and I like I've got an idea and now I hold a patent on Aiden benches the emotiv EEG is an EEG sensor that reads electrical impulses over the skin of the scalp and and literal brain waves that electrical energy and then Bluetooth sit back to whatever the hell you're using it for so what we ended up doing was redeveloped I developed a drone that you can fly with your mind in augmented reality that was the first thing that we do and that's how that happened it all happened because I happen to be looking into a library that I swear to God was called ratchet and its implementation in the modification of an AR Drone 2 weeks after I've been let go and replaced by the guy who have been said that I had I had been made to train your replacement and the story does that make sense I end up down in start up because it was honestly imagine that you reach your hand out because the super shorts the super short sensors are for patient-centered sensors on the AR visor can absolutely identify that you reach your hand out and the Thrones robotic gripper reaches out now you're changing light bulbs on skyscrapers from the comfort of your living room that's an ability to identify guns and bombs through walls using radio waves it was a hell of an adventure the last said that startup was ridiculously awesome if only we'd ever gotten funded we would have saved everyone I digress that's how I end up in robotics and that's how Reese killing works by the way I wanted to do a thing and in order to do a thing I had to learn a new skill to do it and so I availed myself I ended up learning how to build recompile a cryptocurrency miner that would that would run on the GPU that we were using for the drums very powerful robotics AI GPU very small form here you go does iot and Robotics require similar skills it depends on what you doing I mean it depends entirely on what you're doing robotics can be considered a coyote coyote could be can be independent Eyerly you know remote iot can be Cloud control cars iot can be you know smart watches iot can be Fitbit iot can be smart e-bikes robotics can be anything from a drone that stops bullets to self-driving Vehicles robotics is much more so the physical aspects of manipulating the environment and iot is much more so the the spatial awareness for the situational awareness and interacting with with a situation that and the context that the object is in I hope that makes sense and by the way for the the glass\n",
            "speaker 2: cliff\n",
            "speaker 1: if you're interested in that so re-skilling that's my story about re-skilling and I'm sticking to it it's very important to be aware and don't be discouraged by this you're not obsolete you'll never be obsolete you just keep on learning throughout the course of your career and you will be I mean you will always be relevant and I hope that makes sense sorry beyond that interrupt I just have a actually went to to joining for a minute to talk to about one thing that you can continue with the whatever you're doing just wanted to to tell everybody that we are actually recording for 6:30 to request for 6 so yeah so I think that that's why I went to to say that if anyone if you guys have been enjoying the problem so far and anything like that it would be great if you could help us get the word out and leave and I will be Distributing dad that likes to have to run but if you can really tell your friends that your classmates about the benefits of this promised would probably start at the end of May I was trying to recruit now so I went to to throw it out there and if anyone wants to be an ambassador and help us get more people that will be I'll give you a text that's how I wanted to say sorry for the interruption but you guys can email me or you can send me a slap going to be Distributing these two people and just to help us to get the word out how do you tell your friends we have there so many positions to fill you guys you don't even know and getting like at like I was saying before you I'm getting there getting you guys place and getting you guys paid is that's what we're here for a cool thank you yeah so we were stealing and something different Pathways that you can take it always it is always easier to learn a new skill with a specific purpose in mind be like I'm going to go learn Java is really hard to do if you don't have any idea what you want to use Java for if you like I want to build an Android app that's a lot easier so it's a much more discreet goal we were talking about this free calls we have a couple of electrical engineers and in the cohort and the electrical engineers are you know Hardware developers a little bit different of a skill-set from from you guys and it takes a little bit different of a focus I mean they do the homework as well but it's not the same it's not it's not the same for that so I recommended one individual in particular I recommended that that person obtain an fpga board and start a special project just to demonstrate that you know he can do it you can do it and that is why I suggested that he build an fpga Miner because he likes mass and he likes Hardware development in electrical engineering so build an fpga cryptocurrency miners you like math I mean that's the kind of like deal and ideal project for that I hope that makes sense so as far as re-skilling and growing out and growing your skills finding project like that I mean you guys how do you get into robotics I don't know what area are you in any way interested in 3D printing that's robotics to\n",
            "speaker 2: a T\n",
            "speaker 1: i mean if you're at all interested in an iot I know of a guy who developed turn signals for bicycles like brake lights on a car Left Right brakes does that make\n",
            "speaker 2: sense\n",
            "speaker 1: you know what he says get no one no one is asking questions what's yeah they're they're asking they're asking questions they do they engage\n",
            "speaker 2: so\n",
            "speaker 1: like we were saying we were talking about this we were talking about the value of working with a recruiter in terms of negotiation and how there are some different strategies for doing that and how getting the best results when you advocate for someone else and that kind of leaves me to a work like Bells were talking about you know y'all women's group for me and what size of Apple be helpful does it need something so simple and well done good and having something being well done is is always preferable it's always better to build something well it doesn't something that works well that is is well written and his elegant is much better than something that is complex cumbersome poorly designed and works for me okay that's all that shows that you don't know how to build a big project if you don't know how to build a bridge project that's not the end of the world you don't have to building a good a well-functioning functional well-written small project is better than building a big old pile of crap I know it is not too late to schedule with me hit me up on slack and I will I'll get you my calendar like so that you can schedule with me although we work together I could be wrong yeah I'll send you my calendar link so that we can get scheduled for that do the one on one so as far as the size of the app it's not the size of the app that matters is what it does what what you want your app to do you can build an app I mean first off obviously if you're building an Android app to play it on the Google Store building an IOS app and play it to the Apple Store what you want your ex to do I mean you can duplicate functionality that you that you know of any other asking just rebuild the functionality just proved that you can I mean yes I've also I'm also aware of flutter is actually one of the I don't know you weren't on the call but flutter is actually one of the technologies that Roberto specifically uses a piece of show you know does it cost anything to develop a diode to develop iOS apps I mean it's a lot easier to do if you've got a Mech Android apps again it cost as much as it does to have a desk job. Machine down at every setup and deploying it to the I don't I don't remember if it if there's a possibility or whatever it is up for doing so is it's is a nominal like 5 or $10 or whatever just to two just to prevent you know box from spamming it there are other ways of deploying to the App Store to the Apple App Store you don't necessarily have to have a Mac but it's really there's a tool called xamarin that is extremely difficult to work with but it works on you bun to it also works on Windows but you know if you're on Windows in your yeah whatever I don't that is the one language that I have successfully never had a located such erection had to deal with it once and I have never had to deal with it before or since and I'm super happy about iOS I have the least amount of knowledge about the process there and I thought it was five bucks 5 or 10 I mean it's been six years since I had to deal with it for some reason the syntax of iOS just just ticks me off the most I don't even of all of the languages that I use that one just just chaps my hide for some reason I don't even know what it is I think it's the square brackets the way that they use square brackets when they shouldn't so this point everybody everybody has a group that you've been working with right everybody has one right so early compromises that is Junior does we are expected to make for work / life so I would have to say that probably the most burdensome I want us a requirement is the part where you have to you will find yourself playing or you will likely find yourself play and Skillz ketchup for the first couple of years you will need to add skills and expertise very quickly or you'll feel like you need to and then you may need you still connected he's very quickly and so that will lead you whether or not it's part of the work-life balance you will be doing it for your professional development so it's not so much that any particular job makes you do this just to be a software developer it comes along with extra curricular activities that are hard to avoid going to meet ups working with you know doing extracurricular projects in extracurricular activities and everybody's going to want to run their stupid idea for an app test you the girls are going to ask you to fix their computer right agreste and other things one of the best thing that I had to get one of us going to developer going to conventions going to develop as you can get your employer to pay for this lucky you lucky lucky you that is considered a park and it is sought-after to have your your employer be willing to send you to a conference for the language or Stacks that you use it's very prestigious but it's it's very well he's very positive with you and then having a talk doing a talk if you can start giving talks technical talks technical topics at conferences to raise your profile and to further enhance your disability amongst your peers hits the thing getting getting hired at a place is a matter of the opinions of the other dads and that's one of the reasons why I am so I make sure that you guys are don't ever screw over another the other dad's always make sure that you do the other jobs right because you're going to see them again if you don't see them again in a future workplace you'll see that we get it conferences you'll see them again in Social settings the Disturbed the world of that is flat but yeah getting tax accepted is a great way to advance and further your career especially early on I mean later in your career gets to the point where if you haven't done a couple of toxic people like what the hell is wrong with you that everybody does it's just one of the best ways to distinguish yourself and make sure that you send out my best advice though is do not do a unicorn talk don't get suckered into that I have never done a unicorn talk and I never will if you do know what a unicorn talk is I was going to ask you that Unicorn it's called The Unicorn talk a unicorn talk is we're okay unnormal talk is like for example how do I build how and why I mostly How I build a cryptocurrency miner that ran on a drone okay that's a normal technical talk normal are unicorn talk is what it's like to be a woman and death what it is like to be you know a person of color in jazz what it is like to be a gender minority in debt like how what the well these topics are important doing a talk about being that sing Endeavor so how in the hell am I supposed to know what it's like to be not overly what is my point of reference what is my point of comparison how do I know what it's like you know I love you from the other side maybe a question will be like maybe I want to my story and I want to tell my story and this is therapeutic oh don't do the talk you can sit on the panel sit on the panel but don't do the talk for the sake of professional career development is called a Dora currea put together panels for people of color in tank fuel panel because when you're talkin first things first you don't want to be like I'm going to do a panel about being a woman in jail because the first thing that doesn't it isolates you it's exceptional eyes it's you and it's kind of well but everything about your experience might be related to Westfield if you feel I'm here because I'm a developer not because I'm a woman okay first things first I'm here because I'm a developer. Because I'm a woman I'm here because I'm a developer not because I am a black man I am here because I'm a developer not because I am transgender I'm here that's that first thing for so if you're going to do a talk about I am this person in death do it with others who are also marginalized we're all so under-represented because then it becomes we are people in. And it's we are here because we are devs not because we are different and that's that is it's very important to stick together and what about what about your experiences in this I'm not I'm a woman of color in Babylon well at least what's my experience getting my first job or whatever it does again that's a much is much safer place to have that conversation what I mean by safer place it's safer to have that conversation on a panel than it is to stick your neck out and to be the only one up on the stage that is a great way you will let you expose yourself to a 2 billion backlash not just from from this event but in your career if you do that doing it with a panel you it's it's harder to single out a member of the other panel and you benefit from the strength of the group because not everyone is respectful about this and it and you want to make sure that this is is a positive thing for your career and not everyone is always respectful about this or that something is unfortunately you have to be aware when you're choosing to check topics do a panel of being a woman I do a panel on being a gender minority do a panel on being if you know a person or whatever but do not don't go out there alone and do it if you're going to go out there alone go out there alone and make fun of cookham languages weird send tax issues yes workshops also you can do workshops workshops are a great place to do that Workshop sport you know overcoming imposter syndrome and all of the effects and the impact there is a woman Andrea you know you know Sarah Enya's you know Siri this is a software developer because one of the things that I told her I said on a panel about women in in touch which is the if you are a person like you if you are underrepresented if you are a person who is otherwise marginalized that the barriers that you have to overcome in order to get to where you are have basically guaranteed that you are a hundred and 50% qualified to be here to be doing this job by virtue of the barriers that you had to overcome and that particular message group that's a true that I have observed in 15 years of of software development I seen this over and over again and I've also seen consistently but it is those same people who have the worst imposter syndrome and the lowest confidence because they have their there is a because they're they're continually being questioned in ways that are hard to Define hard to describe hard to put your finger out it's true though I mean because I said that Sherry Muses No 5 years into a very successful career as a front end developer she actually told me that at one point she liked that thing that you said that one time is the thing that made the difference and I was like okay and it was on it was on one of those panels and by the way on that same channel in front of a room full of women of specifically women of color another woman on that same panel made the statement that she couldn't find any black women to in Dustin and I looked at her and I gestured to the entire room and I was like I mean you just told an entire room full of people that they don't exist wow yeah I get passionate I have I have opinions but yeah and that's never known what was what was a No-No in terms of like talkin conferences put out what's known as the call for papers well in advance of the talk and you submit your your paper you submit your proposal and it it goes before a Board of Elections and it was selected it's a good idea to know pretty well what the conference is going to be and what the you know how to do do your research and most especially make friends before you submit your papers to the people know to watch for that it's absolutely nothing Network let me know if you're going to submit a talk anywhere please let me know there's a very good chance that I know what is the organizers and I will let them know that you're going to be somebody to talk I mean best ways to Bay City find network and find ending pain or whatever what it's actually called to call for papers and the culprit papers will go out and like for example Texas hero me and let me give you guys an example of paper can you still participate or you have to have a paper call for papers is just what it's called when you sending your submission that's your paper or your that your paper is your talk and your before she sending you first what would be an AVL topic for a walk do you know that I saw was given by a very new developer there a new developer a young black man if you're curious and it was a Texas tree us and it was all about websockets and socket conductivity and how to use websockets and how to connect to web sockets back in and communicate could it be for example about you know even about what Breakers are working in a group or like talking about like that have to be about a problem that You're So Vain usually it's usually best if it is about if it is about a discrete specific if your topic is discrete specific to say if you want to talk about something related to JavaScript undefined is not a function something like that if it's you know if it is StarTex of PHP talk about I don't know the the weirdest thing you ever saw in Magento or the worst bug that you ever came across didn't in consuming Jason again with the there are often hiring or they're hiring a spec to a lot of conventions but mostly this is net working for other organisms learn horror or developers did to me a text yes I actually got to hang out with So and I've mentioned before I went to high school with some of the the jQuery we developers and for a long time I actually supported API. Jquery.com because it was written in PHP I got last year but again with my friend and we ended up hanging out with Paul Irish were those of you JavaScript developers I hope you know who Paul Irish is well yeah you know who Paul irish's I think I know honestly hanging out with ya Paul Irish develops the engine that runs under Chrome he's Polaris Hilton Old basically that it's it's kind of like it's a little bit like you know hanging out with Aerosmith and expect me to network remotely you guys are all in school I love you in school what school has been canceled cu-boulder Dusty has been canceled or cancelled by the glass one yes but that's what the line that's what I mean I guess on the school's okay well then I didn't touch you and it will be canceled next week yeah I think you're at the top of the hour almost I'm going to I'm going to drop and we will talk to me better on let's see everybody who wants to contact Andrea about moving forward please send her a message on slack okay or hit me up you guys know you can talk to me anytime thank you guys and everybody yes you guys\n",
            ":)\n"
          ],
          "name": "stdout"
        },
        {
          "output_type": "error",
          "ename": "FileNotFoundError",
          "evalue": "ignored",
          "traceback": [
            "\u001b[0;31m---------------------------------------------------------------------------\u001b[0m",
            "\u001b[0;31mFileNotFoundError\u001b[0m                         Traceback (most recent call last)",
            "\u001b[0;32m<ipython-input-49-08faf52ab6b6>\u001b[0m in \u001b[0;36m<module>\u001b[0;34m()\u001b[0m\n\u001b[1;32m     13\u001b[0m             \u001b[0mprint\u001b[0m\u001b[0;34m(\u001b[0m\u001b[0;34m\":)\"\u001b[0m\u001b[0;34m)\u001b[0m\u001b[0;34m\u001b[0m\u001b[0;34m\u001b[0m\u001b[0m\n\u001b[1;32m     14\u001b[0m             \u001b[0mtranscript_filename\u001b[0m \u001b[0;34m=\u001b[0m \u001b[0maudio_file_name\u001b[0m\u001b[0;34m.\u001b[0m\u001b[0msplit\u001b[0m\u001b[0;34m(\u001b[0m\u001b[0;34m'.'\u001b[0m\u001b[0;34m)\u001b[0m\u001b[0;34m[\u001b[0m\u001b[0;36m0\u001b[0m\u001b[0;34m]\u001b[0m \u001b[0;34m+\u001b[0m \u001b[0;34m'.txt'\u001b[0m\u001b[0;34m\u001b[0m\u001b[0;34m\u001b[0m\u001b[0m\n\u001b[0;32m---> 15\u001b[0;31m             \u001b[0mwrite_transcripts\u001b[0m\u001b[0;34m(\u001b[0m\u001b[0moutput_filepath\u001b[0m \u001b[0;34m+\u001b[0m \u001b[0mtranscript_filename\u001b[0m\u001b[0;34m,\u001b[0m\u001b[0mtranscript\u001b[0m\u001b[0;34m)\u001b[0m\u001b[0;34m\u001b[0m\u001b[0;34m\u001b[0m\u001b[0m\n\u001b[0m",
            "\u001b[0;32m<ipython-input-47-f25ba58f45fb>\u001b[0m in \u001b[0;36mwrite_transcripts\u001b[0;34m(transcript_filename, transcript)\u001b[0m\n\u001b[1;32m      1\u001b[0m \u001b[0;32mdef\u001b[0m \u001b[0mwrite_transcripts\u001b[0m\u001b[0;34m(\u001b[0m\u001b[0mtranscript_filename\u001b[0m\u001b[0;34m,\u001b[0m\u001b[0mtranscript\u001b[0m\u001b[0;34m)\u001b[0m\u001b[0;34m:\u001b[0m\u001b[0;34m\u001b[0m\u001b[0;34m\u001b[0m\u001b[0m\n\u001b[0;32m----> 2\u001b[0;31m     \u001b[0mf\u001b[0m\u001b[0;34m=\u001b[0m \u001b[0mopen\u001b[0m\u001b[0;34m(\u001b[0m\u001b[0moutput_filepath\u001b[0m \u001b[0;34m+\u001b[0m \u001b[0mtranscript_filename\u001b[0m\u001b[0;34m,\u001b[0m\u001b[0;34m\"w+\"\u001b[0m\u001b[0;34m)\u001b[0m\u001b[0;34m\u001b[0m\u001b[0;34m\u001b[0m\u001b[0m\n\u001b[0m\u001b[1;32m      3\u001b[0m     \u001b[0mf\u001b[0m\u001b[0;34m.\u001b[0m\u001b[0mwrite\u001b[0m\u001b[0;34m(\u001b[0m\u001b[0mtranscript\u001b[0m\u001b[0;34m)\u001b[0m\u001b[0;34m\u001b[0m\u001b[0;34m\u001b[0m\u001b[0m\n\u001b[1;32m      4\u001b[0m     \u001b[0mf\u001b[0m\u001b[0;34m.\u001b[0m\u001b[0mclose\u001b[0m\u001b[0;34m(\u001b[0m\u001b[0;34m)\u001b[0m\u001b[0;34m\u001b[0m\u001b[0;34m\u001b[0m\u001b[0m\n",
            "\u001b[0;31mFileNotFoundError\u001b[0m: [Errno 2] No such file or directory: 'gdrive/My Drive/transcribed_files2/gdrive/My Drive/transcribed_files2/zoom_2.txt'"
          ]
        }
      ]
    }
  ]
}